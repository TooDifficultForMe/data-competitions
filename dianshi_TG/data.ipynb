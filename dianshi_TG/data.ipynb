{
 "cells": [
  {
   "cell_type": "code",
   "execution_count": 1,
   "metadata": {},
   "outputs": [
    {
     "name": "stdout",
     "output_type": "stream",
     "text": [
      "torch.Size([64, 3, 224, 224])\n",
      "torch.Size([64, 6])\n",
      "torch.Size([64, 3, 224, 224])\n",
      "torch.Size([64, 6])\n"
     ]
    }
   ],
   "source": [
    "from data import data_reader\n",
    "\n",
    "class args:\n",
    "    path = 'train2000/'\n",
    "    bs = 64\n",
    "\n",
    "dr = data_reader(args, 'train2000/train2000.csv')\n",
    "\n",
    "t, v = dr.get_train_loader()\n",
    "\n",
    "for i, (X_train, y_train) in enumerate(t):\n",
    "    break\n",
    "\n",
    "print(X_train.shape)\n",
    "\n",
    "print(y_train.shape)\n",
    "\n",
    "for i, (X_val, y_val) in enumerate(v):\n",
    "    break\n",
    "\n",
    "print(X_val.shape)\n",
    "\n",
    "print(y_val.shape)\n",
    "\n"
   ]
  },
  {
   "cell_type": "code",
   "execution_count": 4,
   "metadata": {},
   "outputs": [],
   "source": [
    "import torch"
   ]
  },
  {
   "cell_type": "code",
   "execution_count": 5,
   "metadata": {},
   "outputs": [
    {
     "data": {
      "text/plain": [
       "tensor([2, 4, 4, 5, 1, 1, 1, 3, 0, 4, 3, 5, 2, 4, 4, 1, 5, 0, 5, 1, 5, 0, 4, 1,\n",
       "        1, 3, 4, 4, 5, 1, 1, 5, 2, 4, 1, 4, 0, 4, 4, 1, 3, 1, 1, 1, 5, 1, 1, 4,\n",
       "        1, 1, 1, 3, 5, 1, 5, 5, 1, 5, 5, 2, 1, 3, 1, 4])"
      ]
     },
     "execution_count": 5,
     "metadata": {},
     "output_type": "execute_result"
    }
   ],
   "source": [
    "torch.max(y_val, 1)[1]"
   ]
  },
  {
   "cell_type": "code",
   "execution_count": null,
   "metadata": {},
   "outputs": [],
   "source": []
  }
 ],
 "metadata": {
  "kernelspec": {
   "display_name": "Python 3",
   "language": "python",
   "name": "python3"
  },
  "language_info": {
   "codemirror_mode": {
    "name": "ipython",
    "version": 3
   },
   "file_extension": ".py",
   "mimetype": "text/x-python",
   "name": "python",
   "nbconvert_exporter": "python",
   "pygments_lexer": "ipython3",
   "version": "3.6.2"
  }
 },
 "nbformat": 4,
 "nbformat_minor": 2
}
