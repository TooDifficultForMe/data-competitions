{
 "cells": [
  {
   "cell_type": "code",
   "execution_count": 1,
   "metadata": {},
   "outputs": [],
   "source": [
    "import os\n",
    "os.environ['CUDA_VISIBLE_DEVICES'] = '0'\n",
    "import torch\n",
    "import torch.nn as nn\n",
    "import numpy as np\n",
    "from torchvision import transforms\n",
    "import pandas as pd\n",
    "import matplotlib.pyplot as plt\n",
    "from PIL import Image\n",
    "from data import data_reader\n",
    "from models import ensemble\n",
    "from models import model_densenet121, model_resnet34, model_xception\n",
    "from utils.train_model import trainer, cyc_trainer\n",
    "\n",
    "Tensor = torch.Tensor\n",
    "rand_m = np.random.random"
   ]
  },
  {
   "cell_type": "code",
   "execution_count": 2,
   "metadata": {},
   "outputs": [],
   "source": [
    "d = model_densenet121(6, True)\n",
    "d.load_state_dict(torch.load('weights/densenet121_cos/best_params_acc98.25.pth'))\n",
    "d.eval()\n",
    "\n",
    "r = model_resnet34(6, True)\n",
    "r.load_state_dict(torch.load('weights/resnet34_cos/best_params_acc98.25.pth'))\n",
    "r.eval()\n",
    "\n",
    "x = model_xception(6, True)\n",
    "x.load_state_dict(torch.load('weights/xception/best_params_acc97.75.pth'))\n",
    "x.eval()"
   ]
  },
  {
   "cell_type": "code",
   "execution_count": null,
   "metadata": {},
   "outputs": [],
   "source": []
  }
 ],
 "metadata": {
  "kernelspec": {
   "display_name": "Python 3",
   "language": "python",
   "name": "python3"
  },
  "language_info": {
   "codemirror_mode": {
    "name": "ipython",
    "version": 3
   },
   "file_extension": ".py",
   "mimetype": "text/x-python",
   "name": "python",
   "nbconvert_exporter": "python",
   "pygments_lexer": "ipython3",
   "version": "3.6.2"
  }
 },
 "nbformat": 4,
 "nbformat_minor": 2
}
