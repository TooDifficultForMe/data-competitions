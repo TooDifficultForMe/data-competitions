{
 "cells": [
  {
   "cell_type": "code",
   "execution_count": 1,
   "metadata": {},
   "outputs": [],
   "source": [
    "import os\n",
    "os.environ['CUDA_VISIBLE_DEVICES'] = '1'\n",
    "import torch\n",
    "import torch.nn as nn\n",
    "import numpy as np\n",
    "from torchvision import models, transforms\n",
    "import pandas as pd\n",
    "import matplotlib.pyplot as plt\n",
    "from PIL import Image\n",
    "from data import data_reader\n",
    "\n",
    "import net\n",
    "\n",
    "Tensor = torch.Tensor\n",
    "rand_m = np.random.random"
   ]
  },
  {
   "cell_type": "code",
   "execution_count": 2,
   "metadata": {},
   "outputs": [],
   "source": [
    "class ensemble(nn.Module):\n",
    "    def __init__(self, num_models, num_features, num_classes):\n",
    "        super(ensemble, self).__init__()\n",
    "        assert type(num_features) is list\n",
    "        assert num_models == len(num_features)\n",
    "        self.fc_list = [nn.Sequential(nn.Linear(i, 512), nn.ReLU(inplace=True)) for i in num_features]\n",
    "        self.tail = nn.Sequential(nn.Linear(num_models * 512, 512), \n",
    "                                  nn.ReLU(inplace=True), \n",
    "                                  nn.Linear(512, num_classes))\n",
    "    def forward(self, feature_list):\n",
    "        assert type(feature_list) is list\n",
    "        assert len(feature_list) == len(self.fc_list)\n",
    "        y = [fc(feature) for fc, feature in zip(self.fc_list, feature_list)]\n",
    "        y = torch.cat(y, -1)\n",
    "        return self.tail(y)"
   ]
  },
  {
   "cell_type": "code",
   "execution_count": 3,
   "metadata": {},
   "outputs": [],
   "source": [
    "e = ensemble(3, [512, 1024, 2048], 6)"
   ]
  },
  {
   "cell_type": "code",
   "execution_count": 5,
   "metadata": {},
   "outputs": [],
   "source": [
    "x1 = Tensor(rand_m((1, 512)))\n",
    "x2 = Tensor(rand_m((1, 1024)))\n",
    "x3 = Tensor(rand_m((1, 2048)))"
   ]
  },
  {
   "cell_type": "code",
   "execution_count": 6,
   "metadata": {},
   "outputs": [
    {
     "data": {
      "text/plain": [
       "torch.Size([1, 6])"
      ]
     },
     "execution_count": 6,
     "metadata": {},
     "output_type": "execute_result"
    }
   ],
   "source": [
    "e([x1, x2, x3]).shape"
   ]
  },
  {
   "cell_type": "code",
   "execution_count": null,
   "metadata": {},
   "outputs": [],
   "source": []
  }
 ],
 "metadata": {
  "kernelspec": {
   "display_name": "Python 3",
   "language": "python",
   "name": "python3"
  },
  "language_info": {
   "codemirror_mode": {
    "name": "ipython",
    "version": 3
   },
   "file_extension": ".py",
   "mimetype": "text/x-python",
   "name": "python",
   "nbconvert_exporter": "python",
   "pygments_lexer": "ipython3",
   "version": "3.6.2"
  }
 },
 "nbformat": 4,
 "nbformat_minor": 2
}
